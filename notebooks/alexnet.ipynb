{
  "nbformat": 4,
  "nbformat_minor": 0,
  "metadata": {
    "colab": {
      "name": "alexnet.ipynb",
      "provenance": [],
      "collapsed_sections": [],
      "machine_shape": "hm"
    },
    "kernelspec": {
      "name": "python3",
      "display_name": "Python 3"
    },
    "language_info": {
      "name": "python"
    },
    "accelerator": "GPU"
  },
  "cells": [
    {
      "cell_type": "markdown",
      "metadata": {
        "id": "3XN8G42C4Gyr"
      },
      "source": [
        "# ALEXNET CNN\n",
        "\n",
        "## Setup"
      ]
    },
    {
      "cell_type": "code",
      "source": [
        "import os\n",
        "import sys\n",
        "import numpy as np\n",
        "from pathlib import Path"
      ],
      "metadata": {
        "id": "SiW3nxAq4Wqx"
      },
      "execution_count": 1,
      "outputs": []
    },
    {
      "cell_type": "code",
      "execution_count": 2,
      "metadata": {
        "colab": {
          "base_uri": "https://localhost:8080/"
        },
        "id": "-XtcQcm24Gyv",
        "outputId": "95ca529a-83b8-4380-9242-d6a601a8909c"
      },
      "outputs": [
        {
          "output_type": "stream",
          "name": "stdout",
          "text": [
            "Note: Using Google CoLab\n",
            "Note: Mounting drive\n",
            "Mounted at /content/drive\n",
            "Note: pycm installed\n"
          ]
        }
      ],
      "source": [
        "# Detect Colab if present\n",
        "try:\n",
        "    from google.colab import drive\n",
        "    COLAB = True\n",
        "    print(\"Note: Using Google CoLab\")\n",
        "except:\n",
        "    print(\"Note: Not using Google CoLab\")\n",
        "    COLAB = False\n",
        "\n",
        "if COLAB:\n",
        "    if not os.path.ismount(\"/content/drive\"):\n",
        "        print(\"Note: Mounting drive\")\n",
        "        drive.mount('/content/drive')\n",
        "    else:\n",
        "        print(\"Note: Drive already mounted\")\n",
        "\n",
        "    os.system(\"pip install pycm\")\n",
        "    print(\"Note: pycm installed\")\n",
        "\n",
        "    sys.path.append(\"/content/drive/MyDrive/tumorclass.info\")\n",
        "    sys.path.append(\"/content/drive/MyDrive/tumorclass.info/notebooks\")\n",
        "\n",
        "    PROJECT_PATH = \"/content/drive/MyDrive/tumorclass.info\"\n",
        "\n",
        "else:\n",
        "    PROJECT_PATH = str(Path.cwd().parent)\n",
        "\n",
        "DATA_PATH = os.path.join(PROJECT_PATH, \"data/\")\n",
        "MODELS_PATH = os.path.join(PROJECT_PATH, \"models/\")\n",
        "DATASET_PATH = os.path.join(PROJECT_PATH, \"data/dataset/\")\n",
        "SRC_0_PATH = os.path.join(PROJECT_PATH, \"data/dataset/src_0/\")\n",
        "SRC_1_PATH = os.path.join(PROJECT_PATH, \"data/dataset/src_1/\")\n",
        "SRC_2_PATH = os.path.join(PROJECT_PATH, \"data/dataset/src_2/\")\n",
        "TRAIN_PATH = os.path.join(PROJECT_PATH, \"data/dataset/train/\")\n",
        "TRAIN_NORMAL_PATH = os.path.join(PROJECT_PATH, \"data/dataset/train/normal/\")\n",
        "TRAIN_LGG_PATH = os.path.join(PROJECT_PATH, \"data/dataset/train/lgg/\")\n",
        "TRAIN_HGG_PATH = os.path.join(PROJECT_PATH, \"data/dataset/train/hgg/\")\n",
        "TEST_PATH = os.path.join(PROJECT_PATH, \"data/dataset/test/\")\n",
        "TEST_NORMAL_PATH = os.path.join(PROJECT_PATH, \"data/dataset/test/normal/\")\n",
        "TEST_LGG_PATH = os.path.join(PROJECT_PATH, \"data/dataset/test/lgg/\")\n",
        "TEST_HGG_PATH = os.path.join(PROJECT_PATH, \"data/dataset/test/hgg/\")\n",
        "VALID_PATH = os.path.join(PROJECT_PATH, \"data/dataset/valid/\")\n",
        "VALID_NORMAL_PATH = os.path.join(PROJECT_PATH, \"data/dataset/valid/normal/\")\n",
        "VALID_LGG_PATH = os.path.join(PROJECT_PATH, \"data/dataset/valid/lgg/\")\n",
        "VALID_HGG_PATH = os.path.join(PROJECT_PATH, \"data/dataset/valid/hgg/\")\n",
        "AUG_TRAIN_PATH = os.path.join(PROJECT_PATH, \"data/dataset/aug_train/\")\n",
        "AUG_TRAIN_NORMAL_PATH = os.path.join(\n",
        "    PROJECT_PATH, \"data/dataset/aug_train/normal/\"\n",
        ")\n",
        "AUG_TRAIN_LGG_PATH = os.path.join(PROJECT_PATH, \"data/dataset/aug_train/lgg/\")\n",
        "AUG_TRAIN_HGG_PATH = os.path.join(PROJECT_PATH, \"data/dataset/aug_train/hgg/\")\n",
        "\n",
        "try:\n",
        "    TEST_NORMAL_FILES = np.array(sorted(os.listdir(TEST_NORMAL_PATH)))\n",
        "    TEST_LGG_FILES = np.array(sorted(os.listdir(TEST_LGG_PATH)))\n",
        "    TEST_HGG_FILES = np.array(sorted(os.listdir(TEST_HGG_PATH)))\n",
        "except FileNotFoundError:\n",
        "    print(\"Note: No test data found! Run preprocessing.ipynb first.\")"
      ]
    },
    {
      "cell_type": "code",
      "execution_count": 15,
      "metadata": {
        "id": "ar4BCGwd4Gyu"
      },
      "outputs": [],
      "source": [
        "from tensorflow.keras.backend import clear_session\n",
        "from tensorflow.keras.callbacks import (\n",
        "    EarlyStopping,\n",
        "    LearningRateScheduler,\n",
        "    ModelCheckpoint,\n",
        "    ReduceLROnPlateau,\n",
        ")\n",
        "from tensorflow.keras.layers import (\n",
        "    Dense,\n",
        "    Input,\n",
        "    BatchNormalization,\n",
        "    Conv2D,\n",
        "    Dropout,\n",
        "    Flatten,\n",
        "    MaxPooling2D,\n",
        ")\n",
        "from tensorflow.keras.optimizers import Adam\n",
        "from tensorflow.keras.models import Model, Sequential, load_model, save_model\n",
        "from tensorflow.keras.preprocessing.image import ImageDataGenerator\n",
        "from tools.data import (\n",
        "    learning_rate_scheduler,\n",
        "    confusion_matrix,\n",
        "    count_params,\n",
        "    predict_gen,\n",
        "    predictor,\n",
        "    enumerate_oxford,\n",
        "    compare_predictions,\n",
        "    p_join\n",
        ")\n",
        "from tools.file import mkdir_if_not_exists, pickler\n",
        "from tools.visualize import plot_batch, plot_epochs"
      ]
    },
    {
      "cell_type": "code",
      "execution_count": 4,
      "metadata": {
        "id": "Kfniz4OI4Gyy"
      },
      "outputs": [],
      "source": [
        "MODEL_NAME = \"cnn_alexnet\"\n",
        "IMAGE_WIDTH = 224\n",
        "IMAGE_HEIGHT = 224\n",
        "COLOR_MODE = \"rgb\" # \"grayscale\"\n",
        "IMAGE_CHANNELS = 3  # 1\n",
        "CLASSES = [\"normal\", \"lgg\", \"hgg\"]\n",
        "CLASS_MODE = \"categorical\"\n",
        "SEED = 42\n",
        "\n",
        "BATCH_SIZE = 24"
      ]
    },
    {
      "cell_type": "markdown",
      "metadata": {
        "id": "q2rnp5xF4Gyy"
      },
      "source": [
        "## Prepare data"
      ]
    },
    {
      "cell_type": "code",
      "execution_count": 9,
      "metadata": {
        "colab": {
          "base_uri": "https://localhost:8080/"
        },
        "id": "Hcrh9QTR4Gyz",
        "outputId": "f8d10cb3-4e04-43db-8966-09d6f00185df"
      },
      "outputs": [
        {
          "output_type": "stream",
          "name": "stdout",
          "text": [
            "Found 1045 images belonging to 3 classes.\n",
            "Found 204 images belonging to 3 classes.\n",
            "Found 60 images belonging to 3 classes.\n"
          ]
        }
      ],
      "source": [
        "augment = True\n",
        "\n",
        "train_gen = ImageDataGenerator(\n",
        "    rescale=1.0 / 255,\n",
        ").flow_from_directory(\n",
        "    directory=(AUG_TRAIN_PATH if augment else TRAIN_PATH),\n",
        "    target_size=(IMAGE_WIDTH, IMAGE_HEIGHT),\n",
        "    color_mode=COLOR_MODE,\n",
        "    classes=CLASSES,\n",
        "    batch_size=BATCH_SIZE,\n",
        "    class_mode=CLASS_MODE,\n",
        "    # subset=\"training\",\n",
        "    shuffle=True,\n",
        "    seed=SEED,\n",
        ")\n",
        "\n",
        "valid_gen = ImageDataGenerator(\n",
        "    rescale=1.0 / 255,\n",
        ").flow_from_directory(\n",
        "    directory=VALID_PATH,\n",
        "    target_size=(IMAGE_WIDTH, IMAGE_HEIGHT),\n",
        "    color_mode=COLOR_MODE,\n",
        "    classes=CLASSES,\n",
        "    batch_size=BATCH_SIZE,\n",
        "    class_mode=CLASS_MODE,\n",
        "    # subset=\"validation\",\n",
        "    shuffle=True,\n",
        "    seed=SEED,\n",
        ")\n",
        "\n",
        "test_gen = ImageDataGenerator(\n",
        "    rescale=1.0 / 255,\n",
        ").flow_from_directory(\n",
        "    directory=TEST_PATH,\n",
        "    target_size=(IMAGE_WIDTH, IMAGE_HEIGHT),\n",
        "    color_mode=COLOR_MODE,\n",
        "    classes=CLASSES,\n",
        "    batch_size=BATCH_SIZE,\n",
        "    class_mode=CLASS_MODE,\n",
        "    shuffle=False,\n",
        "    seed=SEED,\n",
        ")"
      ]
    },
    {
      "cell_type": "code",
      "execution_count": 10,
      "metadata": {
        "id": "WbQ68sDO4Gy0"
      },
      "outputs": [],
      "source": [
        "assert train_gen.n == 1045 if augment else train_gen.n == 471\n",
        "assert valid_gen.n == 204\n",
        "assert test_gen.n == 60\n",
        "assert (\n",
        "    train_gen.num_classes\n",
        "    == test_gen.num_classes\n",
        "    == valid_gen.num_classes\n",
        "    == 3\n",
        ")"
      ]
    },
    {
      "cell_type": "code",
      "execution_count": 11,
      "metadata": {
        "id": "AOhRRwYV4Gy0"
      },
      "outputs": [],
      "source": [
        "images, labels = next(train_gen)"
      ]
    },
    {
      "cell_type": "code",
      "execution_count": 12,
      "metadata": {
        "colab": {
          "base_uri": "https://localhost:8080/",
          "height": 72
        },
        "id": "2UtAchjV4Gy1",
        "outputId": "aef4d2ac-f282-4c04-84d7-fb5516691f72"
      },
      "outputs": [
        {
          "output_type": "display_data",
          "data": {
            "text/plain": [
              "<Figure size 1008x432 with 24 Axes>"
            ],
            "image/png": "[encoded data removed]"
          },
          "metadata": {
            "needs_background": "light"
          }
        }
      ],
      "source": [
        "plot_batch(images, labels, argmax=True)"
      ]
    },
    {
      "cell_type": "markdown",
      "metadata": {
        "id": "NvB2m0u94Gy1"
      },
      "source": [
        "## Build Fine-tuned ALEXNET model"
      ]
    },
    {
      "cell_type": "code",
      "source": [
        "model = Sequential()\n",
        "\n",
        "# the 2 first values in in input shape is the width and height of the image, the last is the color channel.\n",
        "input_shape = (IMAGE_WIDTH, IMAGE_HEIGHT, IMAGE_CHANNELS)  # X_train.shape[1:]  # <-- Not hidden, not counted\n",
        "\n",
        "# ### Conv2D ###\n",
        "# filters is the number of filters that is learning.\n",
        "# The kernel_size is the filter/matrix size\n",
        "# The stride is the actual convolving.\n",
        "# padding = \"same\" keeps the origional dimensionality\n",
        "\n",
        "model.add(\n",
        "    Conv2D(\n",
        "        filters=96,\n",
        "        kernel_size=(11, 11),\n",
        "        padding=\"same\",\n",
        "        strides=(4, 4),\n",
        "        activation=\"relu\",\n",
        "        input_shape=input_shape,\n",
        "    )\n",
        ")\n",
        "model.add(BatchNormalization())\n",
        "model.add(MaxPooling2D(pool_size=(3, 3), strides=(2, 2)))\n",
        "\n",
        "model.add(\n",
        "    Conv2D(\n",
        "        filters=256,\n",
        "        kernel_size=(5, 5),\n",
        "        padding=\"same\",\n",
        "        strides=(1,1),\n",
        "        activation=\"relu\",\n",
        "    )\n",
        ")\n",
        "model.add(BatchNormalization())\n",
        "model.add(MaxPooling2D(pool_size=(3, 3), strides=(2, 2)))\n",
        "\n",
        "model.add(\n",
        "    Conv2D(\n",
        "        filters=384,\n",
        "        kernel_size=(3, 3),\n",
        "        padding=\"same\",\n",
        "        strides=(1,1),\n",
        "        activation=\"relu\",\n",
        "    )\n",
        ")\n",
        "model.add(BatchNormalization())\n",
        "\n",
        "model.add(\n",
        "    Conv2D(\n",
        "        filters=384,\n",
        "        kernel_size=(3, 3),\n",
        "        padding=\"same\",\n",
        "        strides=(1,1),\n",
        "        activation=\"relu\",\n",
        "    )\n",
        ")\n",
        "model.add(BatchNormalization())\n",
        "\n",
        "model.add(\n",
        "    Conv2D(\n",
        "        filters=256,\n",
        "        kernel_size=(3, 3),\n",
        "        padding=\"same\",\n",
        "        strides=(1,1),\n",
        "        activation=\"relu\",\n",
        "    )\n",
        ")\n",
        "model.add(BatchNormalization())\n",
        "model.add(MaxPooling2D(pool_size=(3, 3), strides=(2, 2)))\n",
        "\n",
        "# First dense layer in model has to have a flatten\n",
        "model.add(Flatten())\n",
        "\n",
        "model.add(Dense(4096, activation=\"relu\"))\n",
        "model.add(Dropout(0.5))\n",
        "\n",
        "model.add(Dense(4096, activation=\"relu\"))\n",
        "model.add(Dropout(0.5))\n",
        "\n",
        "# ! Dropout should not be added to last hidden layer. Still is in Alexnet.\n",
        "# model.add(Dense(256, activation=\"relu\"))\n",
        "\n",
        "### Will give same result ###\n",
        "## Binary only\n",
        "# When using loss=\"binary_crossentropy\"\n",
        "# model.add(Dense(1, activation=\"sigmoid\"))\n",
        "\n",
        "## Can also be used when more than two classes\n",
        "# When using loss=\"categorical_crossentropy\"\n",
        "model.add(Dense(3, activation=\"softmax\"))"
      ],
      "metadata": {
        "id": "6M7VCon0VpU5"
      },
      "execution_count": 16,
      "outputs": []
    },
    {
      "cell_type": "code",
      "source": [
        "for layer in model.layers:\n",
        "    if layer.trainable:\n",
        "        print(layer.name)"
      ],
      "metadata": {
        "colab": {
          "base_uri": "https://localhost:8080/"
        },
        "id": "TUP03Xf1yjlv",
        "outputId": "866a3048-4bb9-4223-f6f2-255ac575e42c"
      },
      "execution_count": 17,
      "outputs": [
        {
          "output_type": "stream",
          "name": "stdout",
          "text": [
            "conv2d\n",
            "batch_normalization\n",
            "max_pooling2d\n",
            "conv2d_1\n",
            "batch_normalization_1\n",
            "max_pooling2d_1\n",
            "conv2d_2\n",
            "batch_normalization_2\n",
            "conv2d_3\n",
            "batch_normalization_3\n",
            "conv2d_4\n",
            "batch_normalization_4\n",
            "max_pooling2d_2\n",
            "flatten\n",
            "dense\n",
            "dropout\n",
            "dense_1\n",
            "dropout_1\n",
            "dense_2\n"
          ]
        }
      ]
    },
    {
      "cell_type": "code",
      "execution_count": 18,
      "metadata": {
        "colab": {
          "base_uri": "https://localhost:8080/"
        },
        "id": "7dn7pbxJ4Gy4",
        "outputId": "1b3d830c-bd26-4037-c607-73553088704a"
      },
      "outputs": [
        {
          "output_type": "stream",
          "name": "stdout",
          "text": [
            "Model: \"sequential\"\n",
            "_________________________________________________________________\n",
            " Layer (type)                Output Shape              Param #   \n",
            "=================================================================\n",
            " conv2d (Conv2D)             (None, 56, 56, 96)        34944     \n",
            "                                                                 \n",
            " batch_normalization (BatchN  (None, 56, 56, 96)       384       \n",
            " ormalization)                                                   \n",
            "                                                                 \n",
            " max_pooling2d (MaxPooling2D  (None, 27, 27, 96)       0         \n",
            " )                                                               \n",
            "                                                                 \n",
            " conv2d_1 (Conv2D)           (None, 27, 27, 256)       614656    \n",
            "                                                                 \n",
            " batch_normalization_1 (Batc  (None, 27, 27, 256)      1024      \n",
            " hNormalization)                                                 \n",
            "                                                                 \n",
            " max_pooling2d_1 (MaxPooling  (None, 13, 13, 256)      0         \n",
            " 2D)                                                             \n",
            "                                                                 \n",
            " conv2d_2 (Conv2D)           (None, 13, 13, 384)       885120    \n",
            "                                                                 \n",
            " batch_normalization_2 (Batc  (None, 13, 13, 384)      1536      \n",
            " hNormalization)                                                 \n",
            "                                                                 \n",
            " conv2d_3 (Conv2D)           (None, 13, 13, 384)       1327488   \n",
            "                                                                 \n",
            " batch_normalization_3 (Batc  (None, 13, 13, 384)      1536      \n",
            " hNormalization)                                                 \n",
            "                                                                 \n",
            " conv2d_4 (Conv2D)           (None, 13, 13, 256)       884992    \n",
            "                                                                 \n",
            " batch_normalization_4 (Batc  (None, 13, 13, 256)      1024      \n",
            " hNormalization)                                                 \n",
            "                                                                 \n",
            " max_pooling2d_2 (MaxPooling  (None, 6, 6, 256)        0         \n",
            " 2D)                                                             \n",
            "                                                                 \n",
            " flatten (Flatten)           (None, 9216)              0         \n",
            "                                                                 \n",
            " dense (Dense)               (None, 4096)              37752832  \n",
            "                                                                 \n",
            " dropout (Dropout)           (None, 4096)              0         \n",
            "                                                                 \n",
            " dense_1 (Dense)             (None, 4096)              16781312  \n",
            "                                                                 \n",
            " dropout_1 (Dropout)         (None, 4096)              0         \n",
            "                                                                 \n",
            " dense_2 (Dense)             (None, 3)                 12291     \n",
            "                                                                 \n",
            "=================================================================\n",
            "Total params: 58,299,139\n",
            "Trainable params: 58,296,387\n",
            "Non-trainable params: 2,752\n",
            "_________________________________________________________________\n"
          ]
        }
      ],
      "source": [
        "model.summary()\n",
        "params = count_params(model)\n",
        "# print(f\"Trainable params: {params['trainable_params']:,}\")\n",
        "# print(f\"Non-trainable params: {params['non_trainable_params']:,}\")\n",
        "# assert params['trainable_params'] == 1_053_699\n",
        "# assert params['non_trainable_params'] == 2_178_240"
      ]
    },
    {
      "cell_type": "markdown",
      "metadata": {
        "id": "U5NaKbzu4Gy5"
      },
      "source": [
        "## Compile model"
      ]
    },
    {
      "cell_type": "code",
      "execution_count": 19,
      "metadata": {
        "id": "WduobnxC4Gy5"
      },
      "outputs": [],
      "source": [
        "model.compile(\n",
        "    optimizer=Adam(\n",
        "        learning_rate=0.001,  # (0.001 * np.sqrt(0.1)),\n",
        "        beta_1=0.9,\n",
        "        beta_2=0.999,\n",
        "        epsilon=1e-08,\n",
        "        amsgrad=False,\n",
        "        name=\"Adam\",\n",
        "    ),\n",
        "    loss=\"categorical_crossentropy\",\n",
        "    metrics=[\"accuracy\"],\n",
        ")"
      ]
    },
    {
      "cell_type": "markdown",
      "metadata": {
        "id": "7dUXMB9e4Gy6"
      },
      "source": [
        "## Fit model"
      ]
    },
    {
      "cell_type": "code",
      "execution_count": 20,
      "metadata": {
        "id": "SJhcQ6Ra4Gy6",
        "colab": {
          "base_uri": "https://localhost:8080/"
        },
        "outputId": "feca3862-fd59-4bd9-9698-1144cbd70717"
      },
      "outputs": [
        {
          "output_type": "stream",
          "name": "stdout",
          "text": [
            "Selected callbacks: lr_plateau, early_stopping, and model_checkpoint\n"
          ]
        }
      ],
      "source": [
        "epochs = 30\n",
        "\n",
        "set_callbacks = [\n",
        "    # \"lr_schedule\",\n",
        "    \"lr_plateau\",\n",
        "    \"early_stopping\",\n",
        "    \"model_checkpoint\",\n",
        "]\n",
        "\n",
        "if \"lr_schedule\" in set_callbacks and \"lr_plateau\" in set_callbacks:\n",
        "    set_callbacks.pop(set_callbacks.index(\"lr_plateau\"))\n",
        "    print(\"Note: 'LearningRateScheduler' always wins over 'ReduceLROnPlateau'\\n\")\n",
        "\n",
        "callbacks = []\n",
        "callback_names = []\n",
        "\n",
        "if set_callbacks:\n",
        "    if \"lr_schedule\" in set_callbacks:\n",
        "        learning_rate_schedule = learning_rate_scheduler(\n",
        "            # epoch_steps=[5, 20],  # None,\n",
        "            initial_lr=round(float(model.optimizer.learning_rate.numpy()), 8),\n",
        "            # lr_steps=[0.1, 0.1],  # None,\n",
        "            # use_factor=True,\n",
        "            verbose=1\n",
        "        )\n",
        "        lr_schedule = LearningRateScheduler(learning_rate_schedule)\n",
        "        model.optimizer.learning_rate = learning_rate_schedule(0)\n",
        "        print(\n",
        "            \"[LR SCHEDULE]:\\n\"\n",
        "            f\"\\tEpoch_steps: {getattr(learning_rate_schedule, 'epoch_steps')}\\n\"\n",
        "            f\"\\tInitial_lr: {getattr(learning_rate_schedule, 'initial_lr')}\\n\"\n",
        "            f\"\\tLr_steps: {getattr(learning_rate_schedule, 'lr_steps')}\\n\"\n",
        "            f\"\\tUse_factor: {getattr(learning_rate_schedule, 'use_factor')}\\n\"\n",
        "            )\n",
        "        if getattr(learning_rate_schedule, 'use_factor'):\n",
        "            epcs = getattr(learning_rate_schedule, 'epoch_steps')\n",
        "            curr_step = round(float(model.optimizer.learning_rate.numpy()), 8)\n",
        "            print(str(f\"\\tEpoch 0: {curr_step:.10f}\").rstrip(\"0\"))\n",
        "            for i, step in enumerate(getattr(learning_rate_schedule, 'lr_steps')):\n",
        "                curr_step *= step\n",
        "                print(str(f\"\\tEpoch {epcs[i]}: {curr_step:.10f}\").rstrip(\"0\"))\n",
        "            print()\n",
        "\n",
        "        callbacks.append(lr_schedule)\n",
        "        callback_names.append(\"lr_schedule\")\n",
        "\n",
        "    if \"lr_plateau\" in set_callbacks:\n",
        "        lr_plateau = ReduceLROnPlateau(\n",
        "            monitor=\"val_loss\",\n",
        "            factor=np.sqrt(0.1),\n",
        "            patience=2,\n",
        "            verbose=1,\n",
        "            mode=\"auto\",\n",
        "            # min_delta=0.01,\n",
        "            cooldown=0,\n",
        "            min_lr=0.5e-6,\n",
        "        )\n",
        "        callbacks.append(lr_plateau)\n",
        "        callback_names.append(\"lr_plateau\")\n",
        "\n",
        "    if \"early_stopping\" in set_callbacks:\n",
        "        early_stopping = EarlyStopping(\n",
        "            monitor=\"val_loss\",\n",
        "            # min_delta=0.01,\n",
        "            patience=6,\n",
        "            verbose=1,\n",
        "            mode=\"auto\",\n",
        "            baseline=None,\n",
        "            restore_best_weights=True,\n",
        "        )\n",
        "        callbacks.append(early_stopping)\n",
        "        callback_names.append(\"early_stopping\")\n",
        "\n",
        "    if \"model_checkpoint\" in set_callbacks:\n",
        "        model_checkpoint = ModelCheckpoint(\n",
        "            filepath=p_join(MODELS_PATH, MODEL_NAME + \"_\" + \"checkpoint.hdf5\"),\n",
        "            monitor=\"val_loss\",\n",
        "            verbose=1,\n",
        "            save_best_only=True,\n",
        "            save_weights_only=False,\n",
        "            mode=\"auto\",\n",
        "            save_freq=\"epoch\",\n",
        "            options=None,\n",
        "        )\n",
        "        callbacks.append(model_checkpoint)\n",
        "        callback_names.append(\"model_checkpoint\")\n",
        "\n",
        "print(f\"Selected callbacks: {enumerate_oxford(callback_names)}\")"
      ]
    },
    {
      "cell_type": "code",
      "execution_count": 21,
      "metadata": {
        "colab": {
          "base_uri": "https://localhost:8080/"
        },
        "id": "6_qO2nvC4Gy7",
        "outputId": "9ab3a12a-899a-4ca7-ef4c-5d750f323daf"
      },
      "outputs": [
        {
          "output_type": "stream",
          "name": "stdout",
          "text": [
            "Train steps per epoch: 43\n",
            "Valid steps per epoch: 8\n"
          ]
        }
      ],
      "source": [
        "TRAIN_STEPS_PER_EPOCH = int(train_gen.n / BATCH_SIZE)\n",
        "VALID_STEPS_PER_EPOCH = int(valid_gen.n / BATCH_SIZE)\n",
        "print(\"Train steps per epoch:\", TRAIN_STEPS_PER_EPOCH)\n",
        "print(\"Valid steps per epoch:\", VALID_STEPS_PER_EPOCH)"
      ]
    },
    {
      "cell_type": "code",
      "execution_count": 22,
      "metadata": {
        "colab": {
          "base_uri": "https://localhost:8080/"
        },
        "id": "FZLtuqvu4Gy7",
        "outputId": "b7351930-74b0-4592-faa4-4ccc04f40977"
      },
      "outputs": [
        {
          "output_type": "stream",
          "name": "stdout",
          "text": [
            "Epoch 1/30\n",
            "\n",
            "Epoch 1: val_loss improved from inf to 800.10718, saving model to /content/drive/MyDrive/tumorclass.info/models/cnn_alexnet_checkpoint.hdf5\n",
            "43/43 - 574s - loss: 17.3928 - accuracy: 0.5544 - val_loss: 800.1072 - val_accuracy: 0.3906 - lr: 0.0010 - 574s/epoch - 13s/step\n",
            "Epoch 2/30\n",
            "\n",
            "Epoch 2: val_loss improved from 800.10718 to 12.94327, saving model to /content/drive/MyDrive/tumorclass.info/models/cnn_alexnet_checkpoint.hdf5\n",
            "43/43 - 5s - loss: 3.4800 - accuracy: 0.7101 - val_loss: 12.9433 - val_accuracy: 0.5260 - lr: 0.0010 - 5s/epoch - 118ms/step\n",
            "Epoch 3/30\n",
            "\n",
            "Epoch 3: val_loss improved from 12.94327 to 3.91391, saving model to /content/drive/MyDrive/tumorclass.info/models/cnn_alexnet_checkpoint.hdf5\n",
            "43/43 - 5s - loss: 1.4889 - accuracy: 0.7493 - val_loss: 3.9139 - val_accuracy: 0.5417 - lr: 0.0010 - 5s/epoch - 119ms/step\n",
            "Epoch 4/30\n",
            "\n",
            "Epoch 4: val_loss improved from 3.91391 to 0.57851, saving model to /content/drive/MyDrive/tumorclass.info/models/cnn_alexnet_checkpoint.hdf5\n",
            "43/43 - 5s - loss: 0.9399 - accuracy: 0.7904 - val_loss: 0.5785 - val_accuracy: 0.8385 - lr: 0.0010 - 5s/epoch - 122ms/step\n",
            "Epoch 5/30\n",
            "\n",
            "Epoch 5: val_loss did not improve from 0.57851\n",
            "43/43 - 3s - loss: 0.8116 - accuracy: 0.8061 - val_loss: 0.8184 - val_accuracy: 0.6927 - lr: 0.0010 - 3s/epoch - 80ms/step\n",
            "Epoch 6/30\n",
            "\n",
            "Epoch 6: val_loss improved from 0.57851 to 0.54721, saving model to /content/drive/MyDrive/tumorclass.info/models/cnn_alexnet_checkpoint.hdf5\n",
            "43/43 - 5s - loss: 0.8043 - accuracy: 0.8208 - val_loss: 0.5472 - val_accuracy: 0.8281 - lr: 0.0010 - 5s/epoch - 115ms/step\n",
            "Epoch 7/30\n",
            "\n",
            "Epoch 7: val_loss improved from 0.54721 to 0.35302, saving model to /content/drive/MyDrive/tumorclass.info/models/cnn_alexnet_checkpoint.hdf5\n",
            "43/43 - 7s - loss: 0.5864 - accuracy: 0.8266 - val_loss: 0.3530 - val_accuracy: 0.8594 - lr: 0.0010 - 7s/epoch - 162ms/step\n",
            "Epoch 8/30\n",
            "\n",
            "Epoch 8: val_loss did not improve from 0.35302\n",
            "43/43 - 4s - loss: 0.4856 - accuracy: 0.8541 - val_loss: 0.5433 - val_accuracy: 0.7604 - lr: 0.0010 - 4s/epoch - 82ms/step\n",
            "Epoch 9/30\n",
            "\n",
            "Epoch 9: val_loss improved from 0.35302 to 0.33608, saving model to /content/drive/MyDrive/tumorclass.info/models/cnn_alexnet_checkpoint.hdf5\n",
            "43/43 - 5s - loss: 0.4438 - accuracy: 0.8511 - val_loss: 0.3361 - val_accuracy: 0.8698 - lr: 0.0010 - 5s/epoch - 114ms/step\n",
            "Epoch 10/30\n",
            "\n",
            "Epoch 10: val_loss did not improve from 0.33608\n",
            "43/43 - 4s - loss: 0.5009 - accuracy: 0.8296 - val_loss: 0.5687 - val_accuracy: 0.8021 - lr: 0.0010 - 4s/epoch - 85ms/step\n",
            "Epoch 11/30\n",
            "\n",
            "Epoch 11: ReduceLROnPlateau reducing learning rate to 0.00031622778103685084.\n",
            "\n",
            "Epoch 11: val_loss did not improve from 0.33608\n",
            "43/43 - 3s - loss: 0.4254 - accuracy: 0.8443 - val_loss: 0.4122 - val_accuracy: 0.8542 - lr: 0.0010 - 3s/epoch - 74ms/step\n",
            "Epoch 12/30\n",
            "\n",
            "Epoch 12: val_loss improved from 0.33608 to 0.27198, saving model to /content/drive/MyDrive/tumorclass.info/models/cnn_alexnet_checkpoint.hdf5\n",
            "43/43 - 5s - loss: 0.2925 - accuracy: 0.8844 - val_loss: 0.2720 - val_accuracy: 0.8958 - lr: 3.1623e-04 - 5s/epoch - 113ms/step\n",
            "Epoch 13/30\n",
            "\n",
            "Epoch 13: val_loss did not improve from 0.27198\n",
            "43/43 - 3s - loss: 0.2418 - accuracy: 0.9070 - val_loss: 0.3122 - val_accuracy: 0.8906 - lr: 3.1623e-04 - 3s/epoch - 76ms/step\n",
            "Epoch 14/30\n",
            "\n",
            "Epoch 14: val_loss improved from 0.27198 to 0.27034, saving model to /content/drive/MyDrive/tumorclass.info/models/cnn_alexnet_checkpoint.hdf5\n",
            "43/43 - 5s - loss: 0.2186 - accuracy: 0.9119 - val_loss: 0.2703 - val_accuracy: 0.9167 - lr: 3.1623e-04 - 5s/epoch - 113ms/step\n",
            "Epoch 15/30\n",
            "\n",
            "Epoch 15: val_loss improved from 0.27034 to 0.23795, saving model to /content/drive/MyDrive/tumorclass.info/models/cnn_alexnet_checkpoint.hdf5\n",
            "43/43 - 5s - loss: 0.1959 - accuracy: 0.9205 - val_loss: 0.2380 - val_accuracy: 0.9219 - lr: 3.1623e-04 - 5s/epoch - 123ms/step\n",
            "Epoch 16/30\n",
            "\n",
            "Epoch 16: val_loss did not improve from 0.23795\n",
            "43/43 - 3s - loss: 0.1874 - accuracy: 0.9295 - val_loss: 0.2851 - val_accuracy: 0.9271 - lr: 3.1623e-04 - 3s/epoch - 80ms/step\n",
            "Epoch 17/30\n",
            "\n",
            "Epoch 17: ReduceLROnPlateau reducing learning rate to 0.00010000000639606199.\n",
            "\n",
            "Epoch 17: val_loss did not improve from 0.23795\n",
            "43/43 - 3s - loss: 0.1946 - accuracy: 0.9197 - val_loss: 0.2701 - val_accuracy: 0.9375 - lr: 3.1623e-04 - 3s/epoch - 75ms/step\n",
            "Epoch 18/30\n",
            "\n",
            "Epoch 18: val_loss improved from 0.23795 to 0.22551, saving model to /content/drive/MyDrive/tumorclass.info/models/cnn_alexnet_checkpoint.hdf5\n",
            "43/43 - 5s - loss: 0.1545 - accuracy: 0.9363 - val_loss: 0.2255 - val_accuracy: 0.9323 - lr: 1.0000e-04 - 5s/epoch - 119ms/step\n",
            "Epoch 19/30\n",
            "\n",
            "Epoch 19: val_loss improved from 0.22551 to 0.21683, saving model to /content/drive/MyDrive/tumorclass.info/models/cnn_alexnet_checkpoint.hdf5\n",
            "43/43 - 7s - loss: 0.1531 - accuracy: 0.9324 - val_loss: 0.2168 - val_accuracy: 0.9323 - lr: 1.0000e-04 - 7s/epoch - 154ms/step\n",
            "Epoch 20/30\n",
            "\n",
            "Epoch 20: val_loss improved from 0.21683 to 0.21434, saving model to /content/drive/MyDrive/tumorclass.info/models/cnn_alexnet_checkpoint.hdf5\n",
            "43/43 - 5s - loss: 0.1466 - accuracy: 0.9422 - val_loss: 0.2143 - val_accuracy: 0.9375 - lr: 1.0000e-04 - 5s/epoch - 124ms/step\n",
            "Epoch 21/30\n",
            "\n",
            "Epoch 21: val_loss improved from 0.21434 to 0.20619, saving model to /content/drive/MyDrive/tumorclass.info/models/cnn_alexnet_checkpoint.hdf5\n",
            "43/43 - 5s - loss: 0.1601 - accuracy: 0.9314 - val_loss: 0.2062 - val_accuracy: 0.9531 - lr: 1.0000e-04 - 5s/epoch - 122ms/step\n",
            "Epoch 22/30\n",
            "\n",
            "Epoch 22: val_loss improved from 0.20619 to 0.15992, saving model to /content/drive/MyDrive/tumorclass.info/models/cnn_alexnet_checkpoint.hdf5\n",
            "43/43 - 5s - loss: 0.1325 - accuracy: 0.9432 - val_loss: 0.1599 - val_accuracy: 0.9427 - lr: 1.0000e-04 - 5s/epoch - 122ms/step\n",
            "Epoch 23/30\n",
            "\n",
            "Epoch 23: val_loss did not improve from 0.15992\n",
            "43/43 - 3s - loss: 0.1338 - accuracy: 0.9442 - val_loss: 0.2156 - val_accuracy: 0.9531 - lr: 1.0000e-04 - 3s/epoch - 77ms/step\n",
            "Epoch 24/30\n",
            "\n",
            "Epoch 24: ReduceLROnPlateau reducing learning rate to 3.1622778103685084e-05.\n",
            "\n",
            "Epoch 24: val_loss did not improve from 0.15992\n",
            "43/43 - 3s - loss: 0.1285 - accuracy: 0.9500 - val_loss: 0.2024 - val_accuracy: 0.9427 - lr: 1.0000e-04 - 3s/epoch - 75ms/step\n",
            "Epoch 25/30\n",
            "\n",
            "Epoch 25: val_loss did not improve from 0.15992\n",
            "43/43 - 3s - loss: 0.1282 - accuracy: 0.9481 - val_loss: 0.1927 - val_accuracy: 0.9479 - lr: 3.1623e-05 - 3s/epoch - 80ms/step\n",
            "Epoch 26/30\n",
            "\n",
            "Epoch 26: ReduceLROnPlateau reducing learning rate to 1.0000000409520217e-05.\n",
            "\n",
            "Epoch 26: val_loss did not improve from 0.15992\n",
            "43/43 - 3s - loss: 0.1145 - accuracy: 0.9549 - val_loss: 0.2053 - val_accuracy: 0.9479 - lr: 3.1623e-05 - 3s/epoch - 79ms/step\n",
            "Epoch 27/30\n",
            "\n",
            "Epoch 27: val_loss did not improve from 0.15992\n",
            "43/43 - 3s - loss: 0.1192 - accuracy: 0.9530 - val_loss: 0.1964 - val_accuracy: 0.9427 - lr: 1.0000e-05 - 3s/epoch - 78ms/step\n",
            "Epoch 28/30\n",
            "\n",
            "Epoch 28: ReduceLROnPlateau reducing learning rate to 3.1622778678900043e-06.\n",
            "Restoring model weights from the end of the best epoch: 22.\n",
            "\n",
            "Epoch 28: val_loss did not improve from 0.15992\n",
            "43/43 - 3s - loss: 0.1175 - accuracy: 0.9559 - val_loss: 0.1923 - val_accuracy: 0.9479 - lr: 1.0000e-05 - 3s/epoch - 81ms/step\n",
            "Epoch 28: early stopping\n",
            "INFO:tensorflow:Assets written to: ram://cf2b1cfd-2c94-4a46-a523-3c2b1ed902f4/assets\n"
          ]
        }
      ],
      "source": [
        "model_operation = \"fit\"\n",
        "\n",
        "mkdir_if_not_exists(MODELS_PATH)\n",
        "\n",
        "clear_session()\n",
        "\n",
        "if model_operation == \"fit\":\n",
        "    history = model.fit(\n",
        "        x=train_gen,\n",
        "        epochs=epochs,\n",
        "        steps_per_epoch=TRAIN_STEPS_PER_EPOCH,\n",
        "        validation_data=valid_gen,\n",
        "        validation_steps=VALID_STEPS_PER_EPOCH,\n",
        "        verbose=2,\n",
        "        callbacks=callbacks if len(callbacks) > 0 else None,\n",
        "        # workers=2,\n",
        "    )\n",
        "\n",
        "    save_model(model, os.path.join(MODELS_PATH, f\"{MODEL_NAME}_model.h5\"))\n",
        "\n",
        "    # save model history\n",
        "    pickler(\n",
        "        os.path.join(MODELS_PATH, f\"{MODEL_NAME}_model_history\"),\n",
        "        \"save\",\n",
        "        history,\n",
        "    )\n",
        "\n",
        "elif model_operation == \"load\":\n",
        "    model = load_model(os.path.join(MODELS_PATH, f\"{MODEL_NAME}_model.h5\"))\n",
        "    history = pickler(\n",
        "        os.path.join(MODELS_PATH, f\"{MODEL_NAME}_model_history\"), \"load\"\n",
        "    )\n",
        "\n",
        "elif model_operation == \"checkpoint\":\n",
        "    model = load_model(\n",
        "        os.path.join(MODELS_PATH, f\"{MODEL_NAME}_checkpoint.hdf5\")\n",
        "    )\n",
        "    history = None"
      ]
    },
    {
      "cell_type": "markdown",
      "metadata": {
        "id": "dvmY9tdc4Gy8"
      },
      "source": [
        "## Predict"
      ]
    },
    {
      "cell_type": "code",
      "execution_count": 23,
      "metadata": {
        "id": "nPv9xYVz4Gy8",
        "colab": {
          "base_uri": "https://localhost:8080/"
        },
        "outputId": "1ab6903e-4db4-4b0a-dbca-d1f6f6063011"
      },
      "outputs": [
        {
          "output_type": "stream",
          "name": "stdout",
          "text": [
            "3/3 [==============================] - 25s 12s/step\n"
          ]
        }
      ],
      "source": [
        "predictions, y_pred, y_true, target_names = predict_gen(model=model, gen=test_gen)"
      ]
    },
    {
      "cell_type": "code",
      "execution_count": 24,
      "metadata": {
        "id": "crg_rbbh4Gy9",
        "colab": {
          "base_uri": "https://localhost:8080/"
        },
        "outputId": "a12b290f-3ab1-4c15-eaab-992e3c5496b2"
      },
      "outputs": [
        {
          "output_type": "execute_result",
          "data": {
            "text/plain": [
              "array([[9.9999881e-01, 1.1839996e-06, 3.4190837e-08],\n",
              "       [9.9999821e-01, 1.6178763e-06, 7.8552937e-08],\n",
              "       [9.9999988e-01, 6.7998350e-08, 1.6375563e-09],\n",
              "       [9.9999714e-01, 2.7905780e-06, 8.5280192e-08],\n",
              "       [9.9999774e-01, 2.1360806e-06, 6.4530745e-08]], dtype=float32)"
            ]
          },
          "metadata": {},
          "execution_count": 24
        }
      ],
      "source": [
        "predictions[0:5]"
      ]
    },
    {
      "cell_type": "code",
      "execution_count": 25,
      "metadata": {
        "id": "ETwhwhHD4Gy9",
        "colab": {
          "base_uri": "https://localhost:8080/"
        },
        "outputId": "d430c9f3-9883-487f-9937-db9fd9c474f2"
      },
      "outputs": [
        {
          "output_type": "execute_result",
          "data": {
            "text/plain": [
              "array([0, 0, 0, 0, 0, 0, 0, 0, 0, 0, 0, 0, 0, 0, 0, 0, 0, 0, 0, 0, 1, 1,\n",
              "       1, 1, 1, 1, 1, 1, 1, 1, 1, 1, 1, 1, 1, 1, 1, 1, 1, 1, 2, 2, 2, 2,\n",
              "       2, 2, 2, 2, 2, 2, 2, 2, 1, 2, 2, 2, 2, 2, 2, 2])"
            ]
          },
          "metadata": {},
          "execution_count": 25
        }
      ],
      "source": [
        "y_pred"
      ]
    },
    {
      "cell_type": "code",
      "execution_count": 26,
      "metadata": {
        "id": "iBT9TU8Z4Gy9",
        "colab": {
          "base_uri": "https://localhost:8080/"
        },
        "outputId": "daf491ac-8d17-4879-bd70-963d4a31012f"
      },
      "outputs": [
        {
          "output_type": "execute_result",
          "data": {
            "text/plain": [
              "array([0, 0, 0, 0, 0, 0, 0, 0, 0, 0, 0, 0, 0, 0, 0, 0, 0, 0, 0, 0, 1, 1,\n",
              "       1, 1, 1, 1, 1, 1, 1, 1, 1, 1, 1, 1, 1, 1, 1, 1, 1, 1, 2, 2, 2, 2,\n",
              "       2, 2, 2, 2, 2, 2, 2, 2, 2, 2, 2, 2, 2, 2, 2, 2], dtype=int32)"
            ]
          },
          "metadata": {},
          "execution_count": 26
        }
      ],
      "source": [
        "y_true"
      ]
    },
    {
      "cell_type": "code",
      "execution_count": 27,
      "metadata": {
        "id": "7L36MtJA4Gy-",
        "colab": {
          "base_uri": "https://localhost:8080/"
        },
        "outputId": "3e11b356-eeec-44bf-d250-ea6cde7a2d79"
      },
      "outputs": [
        {
          "output_type": "execute_result",
          "data": {
            "text/plain": [
              "['normal', 'lgg', 'hgg']"
            ]
          },
          "metadata": {},
          "execution_count": 27
        }
      ],
      "source": [
        "target_names"
      ]
    },
    {
      "cell_type": "code",
      "execution_count": 28,
      "metadata": {
        "id": "dduTsVSa4Gy-",
        "colab": {
          "base_uri": "https://localhost:8080/"
        },
        "outputId": "9e0ef9c0-d927-4276-8ae8-b1f16fe1951d"
      },
      "outputs": [
        {
          "output_type": "stream",
          "name": "stdout",
          "text": [
            "[normal]\n",
            " 0  1  2  3  4  5  6  7  8  9 10 11 12 13 14 15 16 17 18 19 \n",
            "\u001b[32m 0\u001b[0m \u001b[32m 0\u001b[0m \u001b[32m 0\u001b[0m \u001b[32m 0\u001b[0m \u001b[32m 0\u001b[0m \u001b[32m 0\u001b[0m \u001b[32m 0\u001b[0m \u001b[32m 0\u001b[0m \u001b[32m 0\u001b[0m \u001b[32m 0\u001b[0m \u001b[32m 0\u001b[0m \u001b[32m 0\u001b[0m \u001b[32m 0\u001b[0m \u001b[32m 0\u001b[0m \u001b[32m 0\u001b[0m \u001b[32m 0\u001b[0m \u001b[32m 0\u001b[0m \u001b[32m 0\u001b[0m \u001b[32m 0\u001b[0m \u001b[32m 0\u001b[0m \n",
            " 0  0  0  0  0  0  0  0  0  0  0  0  0  0  0  0  0  0  0  0 \n",
            "\n",
            "[lgg]\n",
            " 0  1  2  3  4  5  6  7  8  9 10 11 12 13 14 15 16 17 18 19 \n",
            "\u001b[32m 1\u001b[0m \u001b[32m 1\u001b[0m \u001b[32m 1\u001b[0m \u001b[32m 1\u001b[0m \u001b[32m 1\u001b[0m \u001b[32m 1\u001b[0m \u001b[32m 1\u001b[0m \u001b[32m 1\u001b[0m \u001b[32m 1\u001b[0m \u001b[32m 1\u001b[0m \u001b[32m 1\u001b[0m \u001b[32m 1\u001b[0m \u001b[32m 1\u001b[0m \u001b[32m 1\u001b[0m \u001b[32m 1\u001b[0m \u001b[32m 1\u001b[0m \u001b[32m 1\u001b[0m \u001b[32m 1\u001b[0m \u001b[32m 1\u001b[0m \u001b[32m 1\u001b[0m \n",
            " 1  1  1  1  1  1  1  1  1  1  1  1  1  1  1  1  1  1  1  1 \n",
            "\n",
            "[hgg]\n",
            " 0  1  2  3  4  5  6  7  8  9 10 11 12 13 14 15 16 17 18 19 \n",
            "\u001b[32m 2\u001b[0m \u001b[32m 2\u001b[0m \u001b[32m 2\u001b[0m \u001b[32m 2\u001b[0m \u001b[32m 2\u001b[0m \u001b[32m 2\u001b[0m \u001b[32m 2\u001b[0m \u001b[32m 2\u001b[0m \u001b[32m 2\u001b[0m \u001b[32m 2\u001b[0m \u001b[32m 2\u001b[0m \u001b[32m 2\u001b[0m \u001b[31m X\u001b[0m \u001b[32m 2\u001b[0m \u001b[32m 2\u001b[0m \u001b[32m 2\u001b[0m \u001b[32m 2\u001b[0m \u001b[32m 2\u001b[0m \u001b[32m 2\u001b[0m \u001b[32m 2\u001b[0m \n",
            " 2  2  2  2  2  2  2  2  2  2  2  2  2  2  2  2  2  2  2  2 \n",
            "\n"
          ]
        }
      ],
      "source": [
        "compare_predictions(y_pred, y_true, target_names)"
      ]
    },
    {
      "cell_type": "code",
      "execution_count": 68,
      "metadata": {
        "id": "yJqNyY1R4Gy_",
        "colab": {
          "base_uri": "https://localhost:8080/"
        },
        "outputId": "1055f09f-d74a-4a18-c747-7778d55bf2b1"
      },
      "outputs": [
        {
          "output_type": "stream",
          "name": "stdout",
          "text": [
            "normal: 11.jpg\n",
            "lgg: 29.jpg\n",
            "hgg: 53.jpg\n"
          ]
        }
      ],
      "source": [
        "print(f\"normal: {TEST_NORMAL_FILES[2]}\")\n",
        "print(f\"lgg: {TEST_LGG_FILES[8]}\")\n",
        "print(f\"hgg: {TEST_HGG_FILES[12]}\")"
      ]
    },
    {
      "cell_type": "code",
      "source": [
        "# Custom predict function after changes to tensorflow.\n",
        "\n",
        "from tensorflow import expand_dims\n",
        "from tensorflow.keras.preprocessing.image import img_to_array, load_img\n",
        "\n",
        "def predictor(path, image_width, image_height, model, classes):\n",
        "    img = load_img(path, target_size=(image_width, image_height))\n",
        "    img_array = img_to_array(img)\n",
        "    img_array = expand_dims(img_array, 0)  # Create batch axis\n",
        "    # rescale the image\n",
        "    img_array = img_array / 255.0\n",
        "\n",
        "    predictions = model.predict(img_array)\n",
        "\n",
        "    # Print classified name and score\n",
        "    print(\n",
        "        f\"Classification: {classes[np.argmax(predictions[0])].upper()} \"\n",
        "        f\"with {np.max(predictions[0])*100:.2f}% confidence.\\n\"\n",
        "    )\n",
        "    print(\"Ratio\")\n",
        "    print(\n",
        "        f\"Normal: {predictions[0][0]*100:.2f}%\\n\"\n",
        "        f\"LGG: {predictions[0][1]*100:.2f}%\\n\"\n",
        "        f\"HGG: {predictions[0][2]*100:.2f}%\"\n",
        "    )"
      ],
      "metadata": {
        "id": "RjZQOomOI4DO"
      },
      "execution_count": 114,
      "outputs": []
    },
    {
      "cell_type": "code",
      "execution_count": 115,
      "metadata": {
        "id": "ZHkNIhYd4Gy_",
        "colab": {
          "base_uri": "https://localhost:8080/"
        },
        "outputId": "02aac616-25b6-4819-87be-ec669fddc4a6"
      },
      "outputs": [
        {
          "output_type": "stream",
          "name": "stdout",
          "text": [
            "Classification: NORMAL with 100.00% confidence.\n",
            "\n",
            "Ratio\n",
            "Normal: 100.00%\n",
            "LGG: 0.00%\n",
            "HGG: 0.00%\n"
          ]
        }
      ],
      "source": [
        "predictor(\n",
        "    # path=\"/Users/lewiuberg/Documents/Data Science/Projects/tumorclass.info/data/dataset/test/lgg/33.jpg\",\n",
        "    path=p_join(TEST_PATH, \"normal\", \"1.jpg\"),\n",
        "    image_width=IMAGE_WIDTH,\n",
        "    image_height=IMAGE_HEIGHT,\n",
        "    model=model,\n",
        "    classes=CLASSES,\n",
        ")"
      ]
    },
    {
      "cell_type": "code",
      "execution_count": 116,
      "metadata": {
        "id": "0sBopoQn4Gy_",
        "colab": {
          "base_uri": "https://localhost:8080/"
        },
        "outputId": "a8eb9789-f819-46ad-b425-553298b84655"
      },
      "outputs": [
        {
          "output_type": "stream",
          "name": "stdout",
          "text": [
            "Classification: LGG with 98.66% confidence.\n",
            "\n",
            "Ratio\n",
            "Normal: 0.00%\n",
            "LGG: 98.66%\n",
            "HGG: 1.34%\n"
          ]
        }
      ],
      "source": [
        "predictor(\n",
        "    # path=\"/Users/lewiuberg/Documents/Data Science/Projects/tumorclass.info/data/dataset/test/lgg/33.jpg\",\n",
        "    path=p_join(TEST_PATH, \"lgg\", \"21.jpg\"),\n",
        "    image_width=IMAGE_WIDTH,\n",
        "    image_height=IMAGE_HEIGHT,\n",
        "    model=model,\n",
        "    classes=CLASSES,\n",
        ")"
      ]
    },
    {
      "cell_type": "code",
      "execution_count": 117,
      "metadata": {
        "id": "urRJ5Y_O4GzA",
        "colab": {
          "base_uri": "https://localhost:8080/"
        },
        "outputId": "52541701-2cbd-4590-ffdc-74f7fdf49561"
      },
      "outputs": [
        {
          "output_type": "stream",
          "name": "stdout",
          "text": [
            "Classification: LGG with 53.53% confidence.\n",
            "\n",
            "Ratio\n",
            "Normal: 0.56%\n",
            "LGG: 53.53%\n",
            "HGG: 45.91%\n"
          ]
        }
      ],
      "source": [
        "predictor(\n",
        "    # path=\"/Users/lewiuberg/Documents/Data Science/Projects/tumorclass.info/data/dataset/test/lgg/33.jpg\",\n",
        "    path=p_join(TEST_PATH, \"hgg\", \"53.jpg\"),\n",
        "    image_width=IMAGE_WIDTH,\n",
        "    image_height=IMAGE_HEIGHT,\n",
        "    model=model,\n",
        "    classes=CLASSES,\n",
        ")"
      ]
    },
    {
      "cell_type": "markdown",
      "metadata": {
        "id": "5sIkXJ7b4GzA"
      },
      "source": [
        "## Evaluate"
      ]
    },
    {
      "cell_type": "code",
      "execution_count": 118,
      "metadata": {
        "id": "t2Dc6oV04GzA",
        "colab": {
          "base_uri": "https://localhost:8080/"
        },
        "outputId": "54a62711-e85a-48a1-f369-b1871077a654"
      },
      "outputs": [
        {
          "output_type": "stream",
          "name": "stdout",
          "text": [
            "3/3 [==============================] - 0s 47ms/step - loss: 0.0582 - accuracy: 0.9833\n",
            "Evaluation loss: 0.06\n",
            "Evaluation accuracy: 98.33%\n"
          ]
        }
      ],
      "source": [
        "eval_loss, eval_accuracy = model.evaluate(\n",
        "    x=test_gen,\n",
        "    batch_size=BATCH_SIZE,\n",
        "    verbose=1\n",
        ")\n",
        "\n",
        "print(f\"Evaluation loss: {eval_loss:.2f}\")\n",
        "print(f\"Evaluation accuracy: {eval_accuracy*100:.2f}%\")"
      ]
    },
    {
      "cell_type": "code",
      "execution_count": 36,
      "metadata": {
        "id": "1braWwvr4GzB",
        "colab": {
          "base_uri": "https://localhost:8080/",
          "height": 1000
        },
        "outputId": "4a40456c-f633-4370-82d6-55573db0b3bb"
      },
      "outputs": [
        {
          "output_type": "display_data",
          "data": {
            "text/plain": [
              "<Figure size 1008x576 with 1 Axes>"
            ],
            "image/png": "[encoded data removed]"
          },
          "metadata": {
            "needs_background": "light"
          }
        },
        {
          "output_type": "display_data",
          "data": {
            "text/plain": [
              "<Figure size 1008x576 with 1 Axes>"
            ],
            "image/png": "[encoded data removed]"
          },
          "metadata": {
            "needs_background": "light"
          }
        }
      ],
      "source": [
        "if history is not None:\n",
        "    plot_epochs(\n",
        "    history=history,\n",
        "    filepath=f\"{MODELS_PATH}{MODEL_NAME}\",\n",
        "    lr_x_offset=0.25,\n",
        "    lr_y_offset=0.02,\n",
        "    scale=1000,\n",
        ")"
      ]
    },
    {
      "cell_type": "code",
      "execution_count": 37,
      "metadata": {
        "id": "mVFE1WID4GzB"
      },
      "outputs": [],
      "source": [
        "cm = confusion_matrix(\n",
        "    y_pred=y_pred,\n",
        "    y_true=y_true,\n",
        "    labels=CLASSES,\n",
        "    save=True,\n",
        "    path=MODELS_PATH,\n",
        "    file_name=MODEL_NAME,\n",
        ")"
      ]
    },
    {
      "cell_type": "code",
      "execution_count": 38,
      "metadata": {
        "id": "yUno6wKa4GzC",
        "colab": {
          "base_uri": "https://localhost:8080/"
        },
        "outputId": "3b7cb19f-ed0e-4c4f-a518-37ccea2c00bd"
      },
      "outputs": [
        {
          "output_type": "execute_result",
          "data": {
            "text/plain": [
              "False"
            ]
          },
          "metadata": {},
          "execution_count": 38
        }
      ],
      "source": [
        "cm.imbalance"
      ]
    },
    {
      "cell_type": "code",
      "execution_count": 39,
      "metadata": {
        "id": "h2MtzKXJ4GzC",
        "colab": {
          "base_uri": "https://localhost:8080/"
        },
        "outputId": "2f888b70-7ac5-418c-d7e5-9de78d63ed77"
      },
      "outputs": [
        {
          "output_type": "stream",
          "name": "stdout",
          "text": [
            "Accuracy   Precision  Recall     F1 Score  \n",
            "98.33      0.98      0.98       0.98      \n"
          ]
        }
      ],
      "source": [
        "# print four lines. Justify text after colon\n",
        "print(\n",
        "    f\"{'Accuracy':<10} {'Precision':<10} {'Recall':<10} {'F1 Score':<10}\\n\"\n",
        "    f\"{cm.Overall_ACC*100:<10.2f} {cm.PPV_Macro:<10.2f}\"\n",
        "    f\"{cm.TPR_Macro:<10.2f} {cm.F1_Macro:<10.2f}\"\n",
        ")"
      ]
    },
    {
      "cell_type": "code",
      "execution_count": 40,
      "metadata": {
        "id": "Zorg6HDJ4GzC",
        "colab": {
          "base_uri": "https://localhost:8080/",
          "height": 312
        },
        "outputId": "98f85150-39c6-4635-c1e8-859b2c108e94"
      },
      "outputs": [
        {
          "output_type": "execute_result",
          "data": {
            "text/plain": [
              "<matplotlib.axes._subplots.AxesSubplot at 0x7f42ff35cd10>"
            ]
          },
          "metadata": {},
          "execution_count": 40
        },
        {
          "output_type": "display_data",
          "data": {
            "text/plain": [
              "<Figure size 432x288 with 2 Axes>"
            ],
            "image/png": "[encoded data removed]"
          },
          "metadata": {
            "needs_background": "light"
          }
        }
      ],
      "source": [
        "cm.plot(plot_lib = \"seaborn\", number_label=True)"
      ]
    },
    {
      "cell_type": "code",
      "execution_count": 41,
      "metadata": {
        "id": "lEFqeOHx4GzD",
        "colab": {
          "base_uri": "https://localhost:8080/",
          "height": 312
        },
        "outputId": "a54053b2-4518-43ac-c49e-0ddb4e95fe0b"
      },
      "outputs": [
        {
          "output_type": "execute_result",
          "data": {
            "text/plain": [
              "<matplotlib.axes._subplots.AxesSubplot at 0x7f42ff911850>"
            ]
          },
          "metadata": {},
          "execution_count": 41
        },
        {
          "output_type": "display_data",
          "data": {
            "text/plain": [
              "<Figure size 432x288 with 2 Axes>"
            ],
            "image/png": "[encoded data removed]"
          },
          "metadata": {
            "needs_background": "light"
          }
        }
      ],
      "source": [
        "cm.plot(plot_lib = \"seaborn\", number_label=True, normalized=True)"
      ]
    },
    {
      "cell_type": "code",
      "source": [
        "from sklearn.metrics import (\n",
        "    accuracy_score,\n",
        "    classification_report,\n",
        "    f1_score,\n",
        "    precision_score,\n",
        "    recall_score,\n",
        ")\n",
        "\n",
        "print('\\nAccuracy: {:.2f}\\n'.format(accuracy_score(y_true, y_pred)))\n",
        "\n",
        "print('Micro Precision: {:.2f}'.format(precision_score(y_true, y_pred, average='micro')))\n",
        "print('Micro Recall: {:.2f}'.format(recall_score(y_true, y_pred, average='micro')))\n",
        "print('Micro F1-score: {:.2f}\\n'.format(f1_score(y_true, y_pred, average='micro')))\n",
        "\n",
        "print('Macro Precision: {:.2f}'.format(precision_score(y_true, y_pred, average='macro')))\n",
        "print('Macro Recall: {:.2f}'.format(recall_score(y_true, y_pred, average='macro')))\n",
        "print('Macro F1-score: {:.2f}\\n'.format(f1_score(y_true, y_pred, average='macro')))\n",
        "\n",
        "print('Weighted Precision: {:.2f}'.format(precision_score(y_true, y_pred, average='weighted')))\n",
        "print('Weighted Recall: {:.2f}'.format(recall_score(y_true, y_pred, average='weighted')))\n",
        "print('Weighted F1-score: {:.2f}'.format(f1_score(y_true, y_pred, average='weighted')))\n",
        "\n",
        "print('\\nClassification Report\\n')\n",
        "print(classification_report(y_true=y_true, y_pred=y_pred, target_names=target_names))"
      ],
      "metadata": {
        "id": "Kumk9zOi5iBj",
        "colab": {
          "base_uri": "https://localhost:8080/"
        },
        "outputId": "51898227-b0c7-4ce2-c515-6a199ab8a17a"
      },
      "execution_count": 42,
      "outputs": [
        {
          "output_type": "stream",
          "name": "stdout",
          "text": [
            "\n",
            "Accuracy: 0.98\n",
            "\n",
            "Micro Precision: 0.98\n",
            "Micro Recall: 0.98\n",
            "Micro F1-score: 0.98\n",
            "\n",
            "Macro Precision: 0.98\n",
            "Macro Recall: 0.98\n",
            "Macro F1-score: 0.98\n",
            "\n",
            "Weighted Precision: 0.98\n",
            "Weighted Recall: 0.98\n",
            "Weighted F1-score: 0.98\n",
            "\n",
            "Classification Report\n",
            "\n",
            "              precision    recall  f1-score   support\n",
            "\n",
            "      normal       1.00      1.00      1.00        20\n",
            "         lgg       0.95      1.00      0.98        20\n",
            "         hgg       1.00      0.95      0.97        20\n",
            "\n",
            "    accuracy                           0.98        60\n",
            "   macro avg       0.98      0.98      0.98        60\n",
            "weighted avg       0.98      0.98      0.98        60\n",
            "\n"
          ]
        }
      ]
    },
    {
      "cell_type": "code",
      "source": [
        ""
      ],
      "metadata": {
        "id": "m7G9kp7_ecF9"
      },
      "execution_count": null,
      "outputs": []
    }
  ]
}